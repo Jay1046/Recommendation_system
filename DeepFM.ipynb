{
 "cells": [
  {
   "cell_type": "code",
   "execution_count": 1,
   "metadata": {},
   "outputs": [],
   "source": [
    "import pandas as pd\n",
    "import numpy as np\n",
    "from tqdm.notebook import tqdm\n",
    "import warnings\n",
    "warnings.filterwarnings(action='ignore')"
   ]
  },
  {
   "cell_type": "code",
   "execution_count": 15,
   "metadata": {},
   "outputs": [],
   "source": [
    "from sklearn.model_selection import train_test_split\n",
    "from sklearn.preprocessing import LabelEncoder, MinMaxScaler\n",
    "from deepctr.models import DeepFM\n",
    "from deepctr.feature_column import SparseFeat, DenseFeat, get_feature_names\n",
    "from sklearn.metrics import roc_auc_score\n",
    "\n",
    "from tensorflow.keras.callbacks import EarlyStopping"
   ]
  },
  {
   "cell_type": "code",
   "execution_count": 6,
   "metadata": {},
   "outputs": [
    {
     "name": "stdout",
     "output_type": "stream",
     "text": [
      "(100000, 30)\n"
     ]
    }
   ],
   "source": [
    "df = pd.read_csv(\"./datasets/dataset.csv\", index_col=0)\n",
    "print(df.shape)"
   ]
  },
  {
   "cell_type": "code",
   "execution_count": 7,
   "metadata": {},
   "outputs": [
    {
     "name": "stdout",
     "output_type": "stream",
     "text": [
      "(90426, 29)\n"
     ]
    }
   ],
   "source": [
    "df = df.drop(\"시험구분\", axis=1).dropna()\n",
    "print(df.shape)"
   ]
  },
  {
   "cell_type": "code",
   "execution_count": 8,
   "metadata": {},
   "outputs": [],
   "source": [
    "df['정오답'] = df['정오답'].map({'O': 1, 'X': 0})"
   ]
  },
  {
   "cell_type": "code",
   "execution_count": 9,
   "metadata": {},
   "outputs": [],
   "source": [
    "data = df[['사용자ID','단원제목','학년','학기','동영상재생시간','실제재생시간','문항코드','대단원제목','중단원제목','소단원제목','난이도', '정오답']]"
   ]
  },
  {
   "cell_type": "code",
   "execution_count": 10,
   "metadata": {},
   "outputs": [
    {
     "data": {
      "text/plain": [
       "Index(['Col_1', 'Col_2', 'Col_3', 'Col_4', 'Col_5', 'Col_6', 'Col_7', 'Col_8',\n",
       "       'Col_9', 'Col_10', 'Col_11', 'Col_12'],\n",
       "      dtype='object')"
      ]
     },
     "execution_count": 10,
     "metadata": {},
     "output_type": "execute_result"
    }
   ],
   "source": [
    "data.columns = ['Col_1','Col_2','Col_3','Col_4','Col_5','Col_6',\\\n",
    "                'Col_7','Col_8','Col_9','Col_10','Col_11','Col_12']\n",
    "\n",
    "data.columns"
   ]
  },
  {
   "cell_type": "code",
   "execution_count": 11,
   "metadata": {},
   "outputs": [],
   "source": [
    "# Data 구분 by columns\n",
    "sparse_features = ['Col_1','Col_2','Col_8','Col_9','Col_10']\n",
    "dense_features = ['Col_3','Col_4','Col_5','Col_6','Col_7','Col_11']\n",
    "target = ['Col_12']\n",
    "\n",
    "# Sparse & Dense 데이터에 대해 각 encoding과 labeling 진행\n",
    "for feat in sparse_features:\n",
    "    encoder = LabelEncoder()\n",
    "    data[feat] = encoder.fit_transform(data[feat])\n",
    "\n",
    "scaler = MinMaxScaler(feature_range=(0, 1))\n",
    "data[dense_features] = scaler.fit_transform(data[dense_features])\n",
    "\n",
    "fixlen_feature_columns = [SparseFeat(feat, vocabulary_size=data[feat].max() + 1, embedding_dim=4)\n",
    "                              for i, feat in enumerate(sparse_features)] + [DenseFeat(feat, 1, )\n",
    "                                                                            for feat in dense_features]\n",
    "\n",
    "                           \n",
    "dnn_feature_columns = fixlen_feature_columns\n",
    "linear_feature_columns = fixlen_feature_columns\n",
    "\n",
    "feature_names = get_feature_names(linear_feature_columns + dnn_feature_columns)"
   ]
  },
  {
   "cell_type": "code",
   "execution_count": 12,
   "metadata": {},
   "outputs": [],
   "source": [
    "train_set, test_set = train_test_split(data, test_size=0.2, random_state=42)\n",
    "train_model_input = {name: train_set[name] for name in feature_names}\n",
    "test_model_input = {name: test_set[name] for name in feature_names}\n",
    "\n",
    "y_train = train_set[target]\n",
    "y_test = test_set[target]"
   ]
  },
  {
   "cell_type": "code",
   "execution_count": 16,
   "metadata": {},
   "outputs": [],
   "source": [
    "# DeepFM \n",
    "class DeepFMModel:\n",
    "    def __init__(self, linear_feature_columns, dnn_feature_columns, task='binary', optimizer='adam', loss='binary_crossentropy', metrics_list=['acc']):\n",
    "        self.linear_feature_columns = linear_feature_columns\n",
    "        self.dnn_feature_columns = dnn_feature_columns\n",
    "        self.task = task\n",
    "        self.optimizer = optimizer\n",
    "        self.loss = loss\n",
    "        self.metrics = metrics_list\n",
    "        self.model = None\n",
    "        \n",
    "    def _build(self):\n",
    "        model = DeepFM(self.linear_feature_columns, self.dnn_feature_columns, task=self.task)\n",
    "        model.compile(optimizer=self.optimizer,\n",
    "                      loss = self.loss,\n",
    "                      metrics=self.metrics)\n",
    "        return model\n",
    "    \n",
    "    def train(self, input_data, target_data, epochs):\n",
    "        self.model = self._build()\n",
    "        es = EarlyStopping(monitor='val_loss', patience=5, verbose=2, mode='auto')\n",
    "        hist = self.model.fit(input_data, \n",
    "                              target_data, \n",
    "                              epochs=epochs,\n",
    "                              callbacks=[es],\n",
    "                              validation_split=0.2)\n",
    "        return hist\n",
    "    \n",
    "    def predict(self, data):\n",
    "        return self.model.predict(data)\n",
    "    \n",
    "    def evaluate(self, train_input, train_target):\n",
    "        predict = self.predict(train_input)\n",
    "        print(\"R2 score: \", round(r2_score(predict, train_target), 4))\n",
    "        \n",
    "    def _save(self, path):\n",
    "        self.model.save(path)"
   ]
  },
  {
   "cell_type": "code",
   "execution_count": 17,
   "metadata": {},
   "outputs": [
    {
     "name": "stdout",
     "output_type": "stream",
     "text": [
      "WARNING:tensorflow:Falling back from v2 loop because of error: Failed to find data adapter that can handle input: (<class 'dict'> containing {\"<class 'str'>\"} keys and {\"<class 'pandas.core.series.Series'>\"} values), <class 'NoneType'>\n",
      "Train on 57872 samples, validate on 14468 samples\n",
      "Epoch 1/100\n",
      "57872/57872 [==============================] - 14s 244us/sample - loss: 0.5101 - acc: 0.7550 - val_loss: 0.5030 - val_acc: 0.7600\n",
      "Epoch 2/100\n",
      "57872/57872 [==============================] - 16s 278us/sample - loss: 0.4949 - acc: 0.7653 - val_loss: 0.4919 - val_acc: 0.7649\n",
      "Epoch 3/100\n",
      "57872/57872 [==============================] - 14s 238us/sample - loss: 0.4819 - acc: 0.7750 - val_loss: 0.4810 - val_acc: 0.7741\n",
      "Epoch 4/100\n",
      "57872/57872 [==============================] - 14s 245us/sample - loss: 0.4723 - acc: 0.7796 - val_loss: 0.4776 - val_acc: 0.7760\n",
      "Epoch 5/100\n",
      "57872/57872 [==============================] - 12s 210us/sample - loss: 0.4628 - acc: 0.7847 - val_loss: 0.4657 - val_acc: 0.7794\n",
      "Epoch 6/100\n",
      "57872/57872 [==============================] - 11s 196us/sample - loss: 0.4548 - acc: 0.7894 - val_loss: 0.4648 - val_acc: 0.7807\n",
      "Epoch 7/100\n",
      "57872/57872 [==============================] - 12s 199us/sample - loss: 0.4466 - acc: 0.7937 - val_loss: 0.4565 - val_acc: 0.7861\n",
      "Epoch 8/100\n",
      "57872/57872 [==============================] - 13s 221us/sample - loss: 0.4389 - acc: 0.7969 - val_loss: 0.4518 - val_acc: 0.7854\n",
      "Epoch 9/100\n",
      "57872/57872 [==============================] - 11s 198us/sample - loss: 0.4295 - acc: 0.8018 - val_loss: 0.4388 - val_acc: 0.7915\n",
      "Epoch 10/100\n",
      "57872/57872 [==============================] - 12s 212us/sample - loss: 0.4210 - acc: 0.8060 - val_loss: 0.4345 - val_acc: 0.7944\n",
      "Epoch 11/100\n",
      "57872/57872 [==============================] - 14s 239us/sample - loss: 0.4116 - acc: 0.8088 - val_loss: 0.4304 - val_acc: 0.7960\n",
      "Epoch 12/100\n",
      "57872/57872 [==============================] - 14s 236us/sample - loss: 0.4028 - acc: 0.8129 - val_loss: 0.4226 - val_acc: 0.8017\n",
      "Epoch 13/100\n",
      "57872/57872 [==============================] - 14s 247us/sample - loss: 0.3955 - acc: 0.8154 - val_loss: 0.4157 - val_acc: 0.8004\n",
      "Epoch 14/100\n",
      "57872/57872 [==============================] - 14s 241us/sample - loss: 0.3882 - acc: 0.8197 - val_loss: 0.4112 - val_acc: 0.8065\n",
      "Epoch 15/100\n",
      "57872/57872 [==============================] - 16s 279us/sample - loss: 0.3807 - acc: 0.8205 - val_loss: 0.4019 - val_acc: 0.8079\n",
      "Epoch 16/100\n",
      "57872/57872 [==============================] - 17s 302us/sample - loss: 0.3749 - acc: 0.8229 - val_loss: 0.4052 - val_acc: 0.8094\n",
      "Epoch 17/100\n",
      "57872/57872 [==============================] - 17s 300us/sample - loss: 0.3701 - acc: 0.8246 - val_loss: 0.3930 - val_acc: 0.8112\n",
      "Epoch 18/100\n",
      "57872/57872 [==============================] - 17s 294us/sample - loss: 0.3642 - acc: 0.8261 - val_loss: 0.3936 - val_acc: 0.8116\n",
      "Epoch 19/100\n",
      "57872/57872 [==============================] - 15s 253us/sample - loss: 0.3604 - acc: 0.8282 - val_loss: 0.3918 - val_acc: 0.8119\n",
      "Epoch 20/100\n",
      "57872/57872 [==============================] - 14s 243us/sample - loss: 0.3556 - acc: 0.8296 - val_loss: 0.3961 - val_acc: 0.8093\n",
      "Epoch 21/100\n",
      "57872/57872 [==============================] - 14s 243us/sample - loss: 0.3535 - acc: 0.8300 - val_loss: 0.3857 - val_acc: 0.8133\n",
      "Epoch 22/100\n",
      "57872/57872 [==============================] - 14s 238us/sample - loss: 0.3489 - acc: 0.8316 - val_loss: 0.3834 - val_acc: 0.8157\n",
      "Epoch 23/100\n",
      "57872/57872 [==============================] - 14s 239us/sample - loss: 0.3464 - acc: 0.8309 - val_loss: 0.3833 - val_acc: 0.8140\n",
      "Epoch 24/100\n",
      "57872/57872 [==============================] - 14s 234us/sample - loss: 0.3434 - acc: 0.8338 - val_loss: 0.3792 - val_acc: 0.8152\n",
      "Epoch 25/100\n",
      "57872/57872 [==============================] - 15s 267us/sample - loss: 0.3409 - acc: 0.8343 - val_loss: 0.3790 - val_acc: 0.8115\n",
      "Epoch 26/100\n",
      "57872/57872 [==============================] - 15s 261us/sample - loss: 0.3389 - acc: 0.8347 - val_loss: 0.3720 - val_acc: 0.8166\n",
      "Epoch 27/100\n",
      "57872/57872 [==============================] - 17s 296us/sample - loss: 0.3368 - acc: 0.8356 - val_loss: 0.3764 - val_acc: 0.8153\n",
      "Epoch 28/100\n",
      "57872/57872 [==============================] - 15s 264us/sample - loss: 0.3364 - acc: 0.8343 - val_loss: 0.3711 - val_acc: 0.8166\n",
      "Epoch 29/100\n",
      "57872/57872 [==============================] - 15s 254us/sample - loss: 0.3338 - acc: 0.8359 - val_loss: 0.3737 - val_acc: 0.8162\n",
      "Epoch 30/100\n",
      "57872/57872 [==============================] - 17s 288us/sample - loss: 0.3333 - acc: 0.8364 - val_loss: 0.3759 - val_acc: 0.8143\n",
      "Epoch 31/100\n",
      "57872/57872 [==============================] - 16s 281us/sample - loss: 0.3317 - acc: 0.8381 - val_loss: 0.3726 - val_acc: 0.8149\n",
      "Epoch 32/100\n",
      "57872/57872 [==============================] - 16s 277us/sample - loss: 0.3284 - acc: 0.8386 - val_loss: 0.3753 - val_acc: 0.8143\n",
      "Epoch 33/100\n",
      "57872/57872 [==============================] - 16s 277us/sample - loss: 0.3291 - acc: 0.8382 - val_loss: 0.3674 - val_acc: 0.8182\n",
      "Epoch 34/100\n",
      "57872/57872 [==============================] - 15s 267us/sample - loss: 0.3267 - acc: 0.8385 - val_loss: 0.3699 - val_acc: 0.8155\n",
      "Epoch 35/100\n",
      "57872/57872 [==============================] - 15s 262us/sample - loss: 0.3276 - acc: 0.8380 - val_loss: 0.3710 - val_acc: 0.8160\n",
      "Epoch 36/100\n",
      "57872/57872 [==============================] - 15s 256us/sample - loss: 0.3254 - acc: 0.8392 - val_loss: 0.3724 - val_acc: 0.8182\n",
      "Epoch 37/100\n",
      "57872/57872 [==============================] - 16s 270us/sample - loss: 0.3245 - acc: 0.8385 - val_loss: 0.3695 - val_acc: 0.8170\n",
      "Epoch 38/100\n",
      "57872/57872 [==============================] - 16s 274us/sample - loss: 0.3244 - acc: 0.8397 - val_loss: 0.3760 - val_acc: 0.8193\n",
      "Epoch 00038: early stopping\n",
      "WARNING:tensorflow:Falling back from v2 loop because of error: Failed to find data adapter that can handle input: (<class 'dict'> containing {\"<class 'str'>\"} keys and {\"<class 'pandas.core.series.Series'>\"} values), <class 'NoneType'>\n"
     ]
    }
   ],
   "source": [
    "epochs = 100\n",
    "\n",
    "model = DeepFMModel(\n",
    "    linear_feature_columns=linear_feature_columns, \n",
    "    dnn_feature_columns=dnn_feature_columns\n",
    "    )\n",
    "\n",
    "history = model.train(train_model_input, y_train, epochs=epochs)\n",
    "y_pred = model.predict(test_model_input)"
   ]
  },
  {
   "cell_type": "code",
   "execution_count": 21,
   "metadata": {},
   "outputs": [
    {
     "data": {
      "image/png": "[encoded data removed]",
      "text/plain": [
       "<Figure size 640x480 with 1 Axes>"
      ]
     },
     "metadata": {},
     "output_type": "display_data"
    }
   ],
   "source": [
    "epoch_range = range(len(history.history['acc']))\n",
    "\n",
    "plt.plot(epoch_range, history.history['acc'])\n",
    "plt.plot(epoch_range, history.history['val_acc'])\n",
    "plt.xlabel('epochs')\n",
    "plt.ylabel('accuracy')\n",
    "plt.legend(['Train','Validation'])\n",
    "plt.show()"
   ]
  },
  {
   "cell_type": "code",
   "execution_count": 25,
   "metadata": {},
   "outputs": [
    {
     "name": "stdout",
     "output_type": "stream",
     "text": [
      "WARNING:tensorflow:Falling back from v2 loop because of error: Failed to find data adapter that can handle input: (<class 'dict'> containing {\"<class 'str'>\"} keys and {\"<class 'pandas.core.series.Series'>\"} values), <class 'NoneType'>\n",
      "Accuracy score for Test set: 0.81975\n"
     ]
    }
   ],
   "source": [
    "from sklearn.metrics import accuracy_score, classification_report, confusion_matrix\n",
    "y_pred = model.predict(test_model_input)\n",
    "y_pred = pd.Series(y_pred.reshape(-1)).map(lambda x: 1 if x>0.5 else 0)\n",
    "print(\"Accuracy score for Test set: {}\".format(round(accuracy_score(y_test, y_pred=y_pred),5)))"
   ]
  },
  {
   "cell_type": "code",
   "execution_count": 26,
   "metadata": {},
   "outputs": [
    {
     "data": {
      "text/plain": [
       "<AxesSubplot:>"
      ]
     },
     "execution_count": 26,
     "metadata": {},
     "output_type": "execute_result"
    },
    {
     "data": {
      "image/png": "[encoded data removed]",
      "text/plain": [
       "<Figure size 640x480 with 2 Axes>"
      ]
     },
     "metadata": {},
     "output_type": "display_data"
    }
   ],
   "source": [
    "cm = confusion_matrix(y_pred=y_pred, y_true=y_test)\n",
    "sns.heatmap(cm, annot=True)"
   ]
  },
  {
   "cell_type": "code",
   "execution_count": 27,
   "metadata": {},
   "outputs": [
    {
     "name": "stdout",
     "output_type": "stream",
     "text": [
      "              precision    recall  f1-score   support\n",
      "\n",
      "           0       0.73      0.61      0.66      5296\n",
      "           1       0.85      0.91      0.88     12790\n",
      "\n",
      "    accuracy                           0.82     18086\n",
      "   macro avg       0.79      0.76      0.77     18086\n",
      "weighted avg       0.81      0.82      0.81     18086\n",
      "\n"
     ]
    }
   ],
   "source": [
    "print(classification_report(y_pred=y_pred, y_true=y_test))"
   ]
  },
  {
   "cell_type": "code",
   "execution_count": 30,
   "metadata": {},
   "outputs": [
    {
     "name": "stdout",
     "output_type": "stream",
     "text": [
      "AUC score: 0.7897\n"
     ]
    }
   ],
   "source": [
    "from sklearn.metrics import roc_auc_score\n",
    "\n",
    "print(\"AUC score: {}\".format(round(roc_auc_score(y_pred, y_test), 4)))"
   ]
  },
  {
   "cell_type": "code",
   "execution_count": null,
   "metadata": {},
   "outputs": [],
   "source": []
  }
 ],
 "metadata": {
  "kernelspec": {
   "display_name": "tf1",
   "language": "python",
   "name": "python3"
  },
  "language_info": {
   "codemirror_mode": {
    "name": "ipython",
    "version": 3
   },
   "file_extension": ".py",
   "mimetype": "text/x-python",
   "name": "python",
   "nbconvert_exporter": "python",
   "pygments_lexer": "ipython3",
   "version": "3.7.16"
  },
  "orig_nbformat": 4
 },
 "nbformat": 4,
 "nbformat_minor": 2
}
